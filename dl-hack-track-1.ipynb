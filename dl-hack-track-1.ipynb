{
 "cells": [
  {
   "cell_type": "code",
   "execution_count": 1,
   "metadata": {
    "_cell_guid": "b1076dfc-b9ad-4769-8c92-a6c4dae69d19",
    "_uuid": "8f2839f25d086af736a60e9eeb907d3b93b6e0e5"
   },
   "outputs": [],
   "source": [
    "# This Python 3 environment comes with many helpful analytics libraries installed\n",
    "# It is defined by the kaggle/python Docker image: https://github.com/kaggle/docker-python\n",
    "# For example, here's several helpful packages to load\n",
    "\n",
    "import numpy as np\n",
    "import pandas as pd\n",
    "import os\n",
    "import matplotlib\n",
    "import seaborn as sns\n",
    "import matplotlib.pyplot as plt\n",
    "from tqdm import tqdm_notebook\n",
    "%matplotlib inline \n",
    "import cv2 as cv\n",
    "import tensorflow as tf\n",
    "from tensorflow import keras\n",
    "from tensorflow.keras import layers\n",
    "from keras.models import Sequential \n",
    "from keras.layers import Conv2D,MaxPool2D,DepthwiseConv2D,Flatten,Dense,Dropout,AveragePooling2D,BatchNormalization\n",
    "from keras.preprocessing.image import ImageDataGenerator\n",
    "from keras.optimizers import Adam\n",
    "from keras.utils import to_categorical\n",
    "from tensorflow.keras import regularizers"
   ]
  },
  {
   "cell_type": "code",
   "execution_count": 2,
   "metadata": {},
   "outputs": [],
   "source": [
    "from tensorflow.keras.preprocessing.image import ImageDataGenerator\n",
    "img_height=512\n",
    "img_width=512\n",
    "batch_size=128\n",
    "directory=\"../input//dl-hack-track-1-cv/train/\""
   ]
  },
  {
   "cell_type": "code",
   "execution_count": 3,
   "metadata": {},
   "outputs": [],
   "source": [
    "datagen=ImageDataGenerator(\n",
    "    rescale=1.0/255,\n",
    "#     featurewise_center=True,\n",
    "#     featurewise_std_normalization=True,\n",
    "#     rotation_range=20,\n",
    "#     width_shift_range=0.2,\n",
    "#     height_shift_range=0.2,\n",
    "    horizontal_flip=False,\n",
    "    data_format=\"channels_last\",\n",
    "    validation_split=0.2,\n",
    "    dtype=tf.float32\n",
    "    \n",
    "    \n",
    ")"
   ]
  },
  {
   "cell_type": "code",
   "execution_count": 4,
   "metadata": {},
   "outputs": [
    {
     "name": "stdout",
     "output_type": "stream",
     "text": [
      "Found 28000 images belonging to 2 classes.\n",
      "Found 7000 images belonging to 2 classes.\n"
     ]
    }
   ],
   "source": [
    "train_data=datagen.flow_from_directory(\n",
    "    \"../input//dl-hack-track-1-cv/train/\",\n",
    "    target_size=(512,512),\n",
    "    batch_size=batch_size,\n",
    "    color_mode=\"rgb\",\n",
    "    class_mode='categorical',\n",
    "    shuffle=True,\n",
    "    subset='training'\n",
    "    \n",
    ")\n",
    "val_data=datagen.flow_from_directory(\n",
    "    \"../input//dl-hack-track-1-cv/train/\",\n",
    "    target_size=(512,512),\n",
    "    batch_size=batch_size,\n",
    "    color_mode=\"rgb\",\n",
    "    class_mode='categorical',\n",
    "    shuffle=True,\n",
    "    subset='validation'\n",
    "    \n",
    ")\n"
   ]
  },
  {
   "cell_type": "code",
   "execution_count": 5,
   "metadata": {},
   "outputs": [],
   "source": [
    "# model= keras.Sequential()\n",
    "# # input shape is shape of images\n",
    "# model.add(keras.Input(shape=(512,512,3)))\n",
    "# model.add(DepthwiseConv2D(3,(2,2)))\n",
    "# model.add(BatchNormalization())\n",
    "# model.add(Conv2D(32,(3,3),activation = 'relu',padding='same')) \n",
    "# model.add(BatchNormalization())\n",
    "# model.add(MaxPool2D((2, 2)))\n",
    "# model.add(Conv2D(48, (3, 3), activation='relu', padding='same'))\n",
    "# model.add(Conv2D(64, (3, 3), activation='relu', padding='same'))\n",
    "# model.add(MaxPool2D((2, 2)))\n",
    "# model.add(Conv2D(80, (3, 3), activation='relu', padding='same'))\n",
    "# model.add(Conv2D(128, (3, 3), activation='relu', padding='same'))\n",
    "# model.add(MaxPool2D((2, 2)))\n",
    "# model.add(Flatten())\n",
    "# model.add(Dense(64, activation='relu'))\n",
    "# model.add(Dense(16,activation=\"relu\"))\n",
    "# model.add(Dense(2,activation=\"sigmoid\"))\n",
    "# model.compile(\n",
    "#         optimizer=tf.keras.optimizers.Adam(0.00005),\n",
    "#             loss='sparse_categorical_crossentropy',\n",
    "#             metrics=['accuracy']\n",
    "#     )\n",
    "# model.summary()\n",
    "# #===========================================================\n",
    "\n",
    "# batches=1\n",
    "# q=True\n",
    "# for x_batch, y_batch in train_data:\n",
    "#         if q:\n",
    "#             model.fit(x_batch, y_batch)\n",
    "#             q=False\n",
    "#         else:\n",
    "#             model.evaluate(x_batch,y_batch)\n",
    "#             q=True\n",
    "#         batches += 1\n",
    "        \n",
    "#         if batches >= 70:\n",
    "#             # we need to break the loop by hand because\n",
    "#             # the generator loops indefinitely\n",
    "#             break"
   ]
  },
  {
   "cell_type": "code",
   "execution_count": 6,
   "metadata": {},
   "outputs": [
    {
     "name": "stdout",
     "output_type": "stream",
     "text": [
      "Downloading data from https://storage.googleapis.com/tensorflow/keras-applications/vgg16/vgg16_weights_tf_dim_ordering_tf_kernels_notop.h5\n",
      "58892288/58889256 [==============================] - 2s 0us/step\n",
      "Model: \"model\"\n",
      "_________________________________________________________________\n",
      "Layer (type)                 Output Shape              Param #   \n",
      "=================================================================\n",
      "input_2 (InputLayer)         [(None, 512, 512, 3)]     0         \n",
      "_________________________________________________________________\n",
      "depthwise_conv2d (DepthwiseC (None, 256, 256, 3)       15        \n",
      "_________________________________________________________________\n",
      "batch_normalization (BatchNo (None, 256, 256, 3)       12        \n",
      "_________________________________________________________________\n",
      "input_1 (InputLayer)         multiple                  0         \n",
      "_________________________________________________________________\n",
      "block1_conv1 (Conv2D)        (None, 256, 256, 64)      1792      \n",
      "_________________________________________________________________\n",
      "block1_conv2 (Conv2D)        (None, 256, 256, 64)      36928     \n",
      "_________________________________________________________________\n",
      "block1_pool (MaxPooling2D)   (None, 128, 128, 64)      0         \n",
      "_________________________________________________________________\n",
      "block2_conv1 (Conv2D)        (None, 128, 128, 128)     73856     \n",
      "_________________________________________________________________\n",
      "block2_conv2 (Conv2D)        (None, 128, 128, 128)     147584    \n",
      "_________________________________________________________________\n",
      "block2_pool (MaxPooling2D)   (None, 64, 64, 128)       0         \n",
      "_________________________________________________________________\n",
      "block3_conv1 (Conv2D)        (None, 64, 64, 256)       295168    \n",
      "_________________________________________________________________\n",
      "block3_conv2 (Conv2D)        (None, 64, 64, 256)       590080    \n",
      "_________________________________________________________________\n",
      "block3_conv3 (Conv2D)        (None, 64, 64, 256)       590080    \n",
      "_________________________________________________________________\n",
      "block3_pool (MaxPooling2D)   (None, 32, 32, 256)       0         \n",
      "_________________________________________________________________\n",
      "block4_conv1 (Conv2D)        (None, 32, 32, 512)       1180160   \n",
      "_________________________________________________________________\n",
      "block4_conv2 (Conv2D)        (None, 32, 32, 512)       2359808   \n",
      "_________________________________________________________________\n",
      "block4_conv3 (Conv2D)        (None, 32, 32, 512)       2359808   \n",
      "_________________________________________________________________\n",
      "block4_pool (MaxPooling2D)   (None, 16, 16, 512)       0         \n",
      "_________________________________________________________________\n",
      "block5_conv1 (Conv2D)        (None, 16, 16, 512)       2359808   \n",
      "_________________________________________________________________\n",
      "block5_conv2 (Conv2D)        (None, 16, 16, 512)       2359808   \n",
      "_________________________________________________________________\n",
      "block5_conv3 (Conv2D)        (None, 16, 16, 512)       2359808   \n",
      "_________________________________________________________________\n",
      "block5_pool (MaxPooling2D)   (None, 8, 8, 512)         0         \n",
      "_________________________________________________________________\n",
      "flatten (Flatten)            (None, 32768)             0         \n",
      "_________________________________________________________________\n",
      "dense (Dense)                (None, 64)                2097216   \n",
      "_________________________________________________________________\n",
      "dense_1 (Dense)              (None, 16)                1040      \n",
      "_________________________________________________________________\n",
      "dense_2 (Dense)              (None, 2)                 34        \n",
      "=================================================================\n",
      "Total params: 16,813,005\n",
      "Trainable params: 16,812,999\n",
      "Non-trainable params: 6\n",
      "_________________________________________________________________\n"
     ]
    }
   ],
   "source": [
    "def inflow(i):\n",
    "    #x=Conv2D(3,(3,3),padding=\"same\")(i)\n",
    "    x=DepthwiseConv2D((2,2),strides=(2,2))(i)\n",
    "    x=BatchNormalization()(x)\n",
    "    #x=Conv2D(3,(3,3),padding=\"same\",activation=\"relu\")(x)\n",
    "    return x\n",
    "def outflow(x):\n",
    "    x=Flatten()(x)\n",
    "    x=Dense(64,activation='relu')(x)\n",
    "    x=Dense(16,activation='relu')(x)\n",
    "    x=Dense(2,activation=\"sigmoid\")(x)\n",
    "    return x\n",
    "\n",
    "vgg19 =keras.applications.VGG16(weights='imagenet',input_shape=(256,256,3), include_top=False) \n",
    "# for layer in vgg19.layers:\n",
    "#     layer.trainable=False\n",
    "\n",
    "    \n",
    "def midflow(x):\n",
    "    for layer in vgg19.layers:\n",
    "        #layer.trainable = False\n",
    "        x=layer(x)\n",
    "    return x\n",
    "inputs=keras.Input(shape=(512,512,3))\n",
    "y=inflow(inputs)\n",
    "y=midflow(y)\n",
    "outputs=outflow(y)\n",
    "Model= keras.Model(inputs,outputs)\n",
    "Model.summary()"
   ]
  },
  {
   "cell_type": "code",
   "execution_count": 8,
   "metadata": {},
   "outputs": [
    {
     "name": "stdout",
     "output_type": "stream",
     "text": [
      "219/219 [==============================] - 1081s 5s/step - loss: 0.0160 - accuracy: 0.9956 - val_loss: 0.0289 - val_accuracy: 0.9889\n"
     ]
    }
   ],
   "source": [
    "Model.compile(\n",
    "       optimizer=tf.keras.optimizers.Adam(0.000003),\n",
    "       loss='categorical_crossentropy',\n",
    "       metrics=['accuracy']\n",
    ")\n",
    "#Model.load_weights(\"transfer.h5\")\n",
    "Model.fit(train_data,epochs=1,validation_data=val_data)\n",
    "Model.save(\"transfer.h5\")"
   ]
  },
  {
   "cell_type": "code",
   "execution_count": 11,
   "metadata": {},
   "outputs": [
    {
     "data": {
      "text/plain": [
       "'\\nModel: \"model\"\\n_________________________________________________________________\\nLayer (type)                 Output Shape              Param #   \\n=================================================================\\ninput_2 (InputLayer)         [(None, 512, 512, 3)]     0         \\n_________________________________________________________________\\ndepthwise_conv2d (DepthwiseC (None, 256, 256, 3)       15        \\n_________________________________________________________________\\nbatch_normalization (BatchNo (None, 256, 256, 3)       12        \\n_________________________________________________________________\\nVgg-16\\n_________________________________________________________________\\nflatten (Flatten)            (None, 32768)             0         \\n_________________________________________________________________\\ndense (Dense)                (None, 64)                2097216   \\n_________________________________________________________________\\ndense_1 (Dense)              (None, 16)                1040      \\n_________________________________________________________________\\ndense_2 (Dense)              (None, 2)                 34        \\n=================================================================\\nTotal params: 16,813,005\\nTrainable params: 16,812,999\\nNon-trainable params: 6\\n\\n\\n\\nModel.compile(\\n       optimizer=tf.keras.optimizers.Adam(0.000003),\\n       loss=\\'categorical_crossentropy\\',\\n       metrics=[\\'accuracy\\']\\n)\\n#Model.load_weights(\"transfer.h5\")\\nModel.fit(train_data,epochs=1,validation_data=val_data)\\nModel.save(\"transfer.h5\")\\n\\n\\n\\n'"
      ]
     },
     "execution_count": 11,
     "metadata": {},
     "output_type": "execute_result"
    }
   ],
   "source": [
    "\"\"\"\n",
    "Model: \"model\"\n",
    "_________________________________________________________________\n",
    "Layer (type)                 Output Shape              Param #   \n",
    "=================================================================\n",
    "input_2 (InputLayer)         [(None, 512, 512, 3)]     0         \n",
    "_________________________________________________________________\n",
    "depthwise_conv2d (DepthwiseC (None, 256, 256, 3)       15        \n",
    "_________________________________________________________________\n",
    "batch_normalization (BatchNo (None, 256, 256, 3)       12        \n",
    "_________________________________________________________________\n",
    "Vgg-16\n",
    "_________________________________________________________________\n",
    "flatten (Flatten)            (None, 32768)             0         \n",
    "_________________________________________________________________\n",
    "dense (Dense)                (None, 64)                2097216   \n",
    "_________________________________________________________________\n",
    "dense_1 (Dense)              (None, 16)                1040      \n",
    "_________________________________________________________________\n",
    "dense_2 (Dense)              (None, 2)                 34        \n",
    "=================================================================\n",
    "Total params: 16,813,005\n",
    "Trainable params: 16,812,999\n",
    "Non-trainable params: 6\n",
    "\n",
    "\n",
    "\n",
    "Model.compile(\n",
    "       optimizer=tf.keras.optimizers.Adam(0.000003),\n",
    "       loss='categorical_crossentropy',\n",
    "       metrics=['accuracy']\n",
    ")\n",
    "#Model.load_weights(\"transfer.h5\")\n",
    "Model.fit(train_data,epochs=1,validation_data=val_data)\n",
    "Model.save(\"transfer.h5\")\n",
    "\n",
    "\n",
    "\n",
    "\"\"\""
   ]
  },
  {
   "cell_type": "code",
   "execution_count": 16,
   "metadata": {},
   "outputs": [],
   "source": [
    "def classify(Id):\n",
    "    x=predictwithId(Id)\n",
    "    if x>0.975:\n",
    "        return 0.975\n",
    "    if x<0.025:\n",
    "        return 0.025\n",
    "    return float(x)\n",
    "    \n",
    "\n",
    "def predictwithId(Id):\n",
    "    path='../input/dl-hack-track-1-cv/test/'+str(Id)+\".png\"\n",
    "    image = tf.keras.preprocessing.image.load_img(path,\n",
    "                                              grayscale=False, \n",
    "                                              color_mode=\"rgb\", \n",
    "                                              target_size=None,\n",
    "                                              interpolation=\"nearest\")\n",
    "    input_arr = keras.preprocessing.image.img_to_array(image)\n",
    "    input_arr = np.array(input_arr)/255  # Convert single image to a batch.\n",
    "    result=Model.predict(np.reshape(input_arr,(1,512,512,3)))[:,1]\n",
    "    return result\n"
   ]
  },
  {
   "cell_type": "code",
   "execution_count": 15,
   "metadata": {},
   "outputs": [
    {
     "data": {
      "text/plain": [
       "3.058799620703212e-06"
      ]
     },
     "execution_count": 15,
     "metadata": {},
     "output_type": "execute_result"
    }
   ],
   "source": [
    "path='../input/dl-hack-track-1-cv/train/fake/'+str(4)+\".png\"\n",
    "image = tf.keras.preprocessing.image.load_img(path,\n",
    "                                              grayscale=False, \n",
    "                                              color_mode=\"rgb\", \n",
    "                                              target_size=None,\n",
    "                                              interpolation=\"nearest\")\n",
    "input_arr = keras.preprocessing.image.img_to_array(image)\n",
    "input_arr = np.array(input_arr)/255  # Convert single image to a batch.\n",
    "result=Model.predict(np.reshape(input_arr,(1,512,512,3)))[:,1]\n",
    "float(result)"
   ]
  },
  {
   "cell_type": "code",
   "execution_count": null,
   "metadata": {},
   "outputs": [],
   "source": [
    "submission=pd.read_csv(\"../input/dl-hack-track-1-cv/sample_submission.csv\")\n",
    "submission['p_real']=submission['id'].apply(classify)\n",
    "print(len(submission))\n",
    "submission.set_index('id').to_csv('sample_submission.csv')"
   ]
  },
  {
   "cell_type": "code",
   "execution_count": null,
   "metadata": {},
   "outputs": [],
   "source": [
    "Model.save(\"transfer.h5\")"
   ]
  },
  {
   "cell_type": "code",
   "execution_count": null,
   "metadata": {},
   "outputs": [],
   "source": [
    "path='../input/dl-hack-track-1-cv/test/'+str(0)+\".png\"\n",
    "image = tf.keras.preprocessing.image.load_img(path,\n",
    "                                              grayscale=False, \n",
    "                                              color_mode=\"rgb\", \n",
    "                                              target_size=None,\n",
    "                                              interpolation=\"nearest\")\n",
    "input_arr = keras.preprocessing.image.img_to_array(image)\n",
    "input_arr = np.array(input_arr)/255  # Convert single image to a batch.\n",
    "input_arr = np.reshape(input_arr,(1,512,512,3))/255\n",
    "model2 = tf.keras.models.load_model(\"m2.h5\")\n",
    "blocks = [7]\n",
    "outputs = [model2.layers[i].output for i in blocks]\n",
    "model2 = keras.Model( inputs= model2.inputs, outputs = outputs)\n",
    "feature_map = model2.predict(input_arr)\n",
    "\n",
    "for i,fmap in zip(blocks,feature_map):\n",
    "    fig = plt.figure(figsize=(20,15))\n",
    "    #https://stackoverflow.com/a/12444777\n",
    "    fig.suptitle(\"BLOCK_{}\".format(i) , fontsize=20)\n",
    "    for i in range(1,features.shape[3]+1):\n",
    "        plt.subplot(8,8,i)\n",
    "        plt.imshow(fmap[:,:,i-1] , cmap='gray')\n",
    "        #print(fmap[:,:,i].shape)\n",
    "plt.show()"
   ]
  },
  {
   "cell_type": "code",
   "execution_count": null,
   "metadata": {},
   "outputs": [],
   "source": [
    "\n",
    "def inflow(i):\n",
    "    x=Conv2D(3,3,padding=\"same\")(i)\n",
    "    x=DepthwiseConv2D((2,2),strides=(2,2))(x)\n",
    "    return x\n",
    "vgg_model=keras.applications.VGG16(weights='imagenet', include_top=False, input_shape=(256,256,3))\n",
    "model_aug=Sequential()\n",
    "model_aug.add(Conv2D(3,3,padding=\"same\",input_shape=(512,512,3)))\n",
    "model_aug.add(DepthwiseConv2D((2,2),strides=(2,2)))\n",
    "model_aug.add(vgg_model)\n",
    "top_model=Sequential()\n",
    "\n",
    "\n",
    "top_model.add(Flatten(input_shape=(2, 2, 512)))\n",
    "#model_aug.add(Dropout(0.3))\n",
    "top_model.add(Dense(64, activation='relu'))\n",
    "\n",
    "top_model.add(Dense(1, activation='sigmoid'))\n",
    "\n",
    "model_aug.add(top_model)\n",
    "\n",
    "for layer in model_aug.layers[3].layers[:17]:\n",
    "    layer.trainable=False\n",
    "model      "
   ]
  },
  {
   "cell_type": "code",
   "execution_count": null,
   "metadata": {},
   "outputs": [],
   "source": []
  },
  {
   "cell_type": "code",
   "execution_count": null,
   "metadata": {},
   "outputs": [],
   "source": []
  }
 ],
 "metadata": {
  "kernelspec": {
   "display_name": "Python 3",
   "language": "python",
   "name": "python3"
  },
  "language_info": {
   "codemirror_mode": {
    "name": "ipython",
    "version": 3
   },
   "file_extension": ".py",
   "mimetype": "text/x-python",
   "name": "python",
   "nbconvert_exporter": "python",
   "pygments_lexer": "ipython3",
   "version": "3.8.3"
  }
 },
 "nbformat": 4,
 "nbformat_minor": 4
}
